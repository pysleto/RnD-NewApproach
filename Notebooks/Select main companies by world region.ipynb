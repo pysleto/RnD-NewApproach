{
 "cells": [
  {
   "cell_type": "raw",
   "metadata": {},
   "source": [
    "Select the main companies by region (having invested the most in R&D since 2010 and corresponding together to more\n",
    "than 99% of R&D investments in the region) and consolidate a global list of unique companies\n",
    ":param cases:\n",
    ":param cases:\n",
    ":param files:\n",
    ":param files:\n",
    ":param country_map: dataframe for country mapping\n",
    ":return: analytical report"
   ]
  },
  {
   "cell_type": "code",
   "execution_count": null,
   "metadata": {},
   "outputs": [],
   "source": [
    "# Import libraries\n",
    "import pandas as pd\n",
    "import method as mtd\n",
    "import config as cfg\n",
    "import report as rpt\n",
    "import datetime\n",
    "import json\n",
    "from pathlib import Path"
   ]
  },
  {
   "cell_type": "code",
   "execution_count": null,
   "metadata": {},
   "outputs": [],
   "source": [
    "# Load config files\n",
    "(cases, cases_as_strings, files, use_case, place) = cfg.init()"
   ]
  },
  {
   "cell_type": "code",
   "execution_count": null,
   "metadata": {},
   "outputs": [],
   "source": [
    " # Initialize DFs\n",
    "all_comp = main_comp = pd.DataFrame()\n",
    "step_report = report = {}\n",
    "company_type = ''\n",
    "i = 0"
   ]
  },
  {
   "cell_type": "code",
   "execution_count": null,
   "metadata": {},
   "outputs": [],
   "source": [
    "print('Read input table ...')\n",
    "\n",
    "for region in cases['REGIONS']:\n",
    "    i += 1\n",
    "    print(region + ' (File #' + str(i) + '/' + str(len(cases['REGIONS'])) + ')')\n",
    "\n",
    "    # Read input list of companies by world region\n",
    "    df = pd.read_excel(cases['CASE_ROOT'].joinpath(r'input/main_comps_id/' + str(company_type) + 'listed companies - ' + region + '.xlsx'),\n",
    "                       sheet_name='Results',\n",
    "                       names=['rank', 'company_name', 'bvd9', 'bvd_id', 'country_2DID_iso'] + ['rnd_y' + str(YY) for\n",
    "                                                                                               YY in\n",
    "                                                                                               range(10, 19)[::-1]],\n",
    "                       na_values='n.a.',\n",
    "                       dtype={\n",
    "                           **{col: str for col in ['company_name', 'bvd9', 'bvd_id', 'country_2DID_iso']},\n",
    "                           **{col: float for col in ['rnd_y' + str(YY) for YY in range(10, 19)]}\n",
    "                       }\n",
    "                       ).drop(columns='rank')\n",
    "\n",
    "    df['y_lastav'] = cases['YEAR_LASTAV']\n",
    "\n",
    "    df['rnd_mean'] = df[['rnd_y' + str(YY) for YY in range(10, 19)]].mean(axis=1, skipna=True)\n",
    "\n",
    "    df['rnd_y_lastav'] = df['rnd_y' + str(cases['YEAR_LASTAV'])[-2:]]\n",
    "\n",
    "    # Identify the top companies that constitute 99% of the R&D expenses\n",
    "    start = 0.0\n",
    "    count = 0\n",
    "\n",
    "    while start < 0.99 * df['rnd_mean'].sum():\n",
    "        count += 1\n",
    "        start = df.nlargest(count, ['rnd_mean'])['rnd_mean'].sum()\n",
    "\n",
    "    main_comp_region = df.nlargest(count, ['rnd_mean'])\n",
    "\n",
    "    # main_comp_region['Region'] = region\n",
    "\n",
    "    # Calculates main regional statistics\n",
    "    step_report[region.capitalize()] = {'total_bvd9': df['bvd9'].count().sum(),\n",
    "                                   'total_rnd_y' + str(cases['YEAR_LASTAV'])[-2:]: df[\n",
    "                                       'rnd_y' + str(cases['YEAR_LASTAV'])[-2:]].sum(),\n",
    "                                   'selected_bvd9': main_comp_region['bvd9'].count().sum(),\n",
    "                                   'selected_rnd_y' + str(cases['YEAR_LASTAV'])[-2:]: main_comp_region[\n",
    "                                       'rnd_y' + str(cases['YEAR_LASTAV'])[-2:]].sum()\n",
    "                                   }\n",
    "\n",
    "    # Consolidate statistics and list of top R&D performers over different regions\n",
    "    all_comp = all_comp.append(df)\n",
    "    main_comp = main_comp.append(main_comp_region)"
   ]
  },
  {
   "cell_type": "code",
   "execution_count": null,
   "metadata": {},
   "outputs": [],
   "source": [
    "print('Clean output table ...')\n",
    "\n",
    "# Drop duplicates\n",
    "main_comp_clean = main_comp.drop_duplicates(subset='bvd9', keep='first')"
   ]
  },
  {
   "cell_type": "code",
   "execution_count": null,
   "metadata": {},
   "outputs": [],
   "source": [
    "# Update report statistics\n",
    "step_report['Total'] = {'total_bvd9': all_comp['bvd9'].count().sum(),\n",
    "                   'total_rnd_y' + str(cases['YEAR_LASTAV'])[-2:]: all_comp[\n",
    "                       'rnd_y' + str(cases['YEAR_LASTAV'])[-2:]].sum(),\n",
    "                   'selected_bvd9': main_comp_clean['bvd9'].count().sum(),\n",
    "                   'selected_rnd_y' + str(cases['YEAR_LASTAV'])[-2:]: main_comp_clean[\n",
    "                       'rnd_y' + str(cases['YEAR_LASTAV'])[-2:]].sum()\n",
    "                   }"
   ]
  },
  {
   "cell_type": "code",
   "execution_count": null,
   "metadata": {},
   "outputs": [],
   "source": [
    "print('Merging with country_map ...')\n",
    "\n",
    "# Merging group country_map for allocation to world player categories\n",
    "merged = pd.merge(\n",
    "    main_comp_clean, country_map[['country_2DID_iso', 'country_3DID_iso', 'world_player']],\n",
    "    left_on='country_2DID_iso', right_on='country_2DID_iso',\n",
    "    how='left',\n",
    "    suffixes=(False, False)\n",
    ")"
   ]
  },
  {
   "cell_type": "code",
   "execution_count": null,
   "metadata": {},
   "outputs": [],
   "source": [
    "print('Saving main companies output file ...')\n",
    "\n",
    "# Save output table of selected main companies\n",
    "merged.to_csv(files['OUTPUT'][company_type]['ID_EXT']['MAIN_COMPS'],\n",
    "              index=False,\n",
    "              columns=['bvd9', 'bvd_id', 'company_name', 'country_3DID_iso', 'world_player',\n",
    "                       'rnd_mean', 'y_lastav', 'rnd_y_lastav'],\n",
    "              float_format='%.10f',\n",
    "              na_rep='n.a.'\n",
    "              )"
   ]
  },
  {
   "cell_type": "code",
   "execution_count": null,
   "metadata": {},
   "outputs": [],
   "source": [
    "report['load_subsidiary_financials_by_regions'] = step_report"
   ]
  },
  {
   "cell_type": "code",
   "execution_count": null,
   "metadata": {},
   "outputs": [],
   "source": [
    "rpt.update(report, cases)"
   ]
  }
 ],
 "metadata": {
  "kernelspec": {
   "display_name": "Python 3",
   "language": "python",
   "name": "python3"
  },
  "language_info": {
   "codemirror_mode": {
    "name": "ipython",
    "version": 3
   },
   "file_extension": ".py",
   "mimetype": "text/x-python",
   "name": "python",
   "nbconvert_exporter": "python",
   "pygments_lexer": "ipython3",
   "version": "3.6.10"
  }
 },
 "nbformat": 4,
 "nbformat_minor": 4
}
