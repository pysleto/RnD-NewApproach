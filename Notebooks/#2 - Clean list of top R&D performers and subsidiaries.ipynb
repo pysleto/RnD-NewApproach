{
 "cells": [
  {
   "cell_type": "code",
   "execution_count": 1,
   "metadata": {},
   "outputs": [],
   "source": [
    "# Import libraries\n",
    "import os\n",
    "import pandas as pd\n",
    "from pathlib import Path\n",
    "import configparser\n",
    "import json\n",
    "from tabulate import tabulate"
   ]
  },
  {
   "cell_type": "code",
   "execution_count": 2,
   "metadata": {},
   "outputs": [],
   "source": [
    "# Initiallize\n",
    "base_path = Path(r'U:\\WP 765 Energy RIC\\Private data & analysis\\Alternative Approach_Private R&D\\Orbis_Data\\Data_2020')\n",
    "\n",
    "report = []\n",
    "ListCompSub_df = pd.DataFrame()"
   ]
  },
  {
   "cell_type": "code",
   "execution_count": 3,
   "metadata": {},
   "outputs": [],
   "source": [
    "# Import config parameters\n",
    "config = configparser.ConfigParser(\n",
    "    converters={'list': lambda x: [i.strip() for i in x.split(',')]}\n",
    ")\n",
    "     \n",
    "config.read(base_path.joinpath(r'config.ini'))\n",
    "\n",
    "CASE = 'EU_28'\n",
    "\n",
    "MAPPING = Path(config.get('DEFAULT','MAPPING_PATH'))\n",
    "SCREENING_KEYS = config.getlist('DEFAULT','SCREENING_KEYS')\n",
    "\n",
    "REGION = config.getlist(CASE,'ORBIS_REGION')\n",
    "CASE_ROOT = base_path.joinpath(config.get(CASE,'CASE_ROOT_PATH'))\n",
    "YEAR_LASTAV = config.getint(CASE,'YEAR_LASTAV')\n",
    "SUBS_ID_FILE_N = config.getint(CASE,'SUBS_ID_FILE_N')\n",
    "SUBS_FIN_FILE_N = config.getint(CASE,'SUBS_FIN_FILE_N')\n",
    "GROUPS_FIN_FILE_N = config.getint(CASE,'GROUPS_FIN_FILE_N')\n",
    "METHOD = config.get(CASE,'SUBS_METHOD')"
   ]
  },
  {
   "cell_type": "code",
   "execution_count": 4,
   "metadata": {},
   "outputs": [],
   "source": [
    "# Load inititial listed company set\n",
    "ListComp_df = pd.read_csv(CASE_ROOT.joinpath(r'Listed companies.csv'),\n",
    "                          na_values = 'n.a.',\n",
    "                          dtype = {\n",
    "                              col: str for col in ['BvD9', 'BvD_id']\n",
    "                          }\n",
    "                         )"
   ]
  },
  {
   "cell_type": "code",
   "execution_count": 5,
   "metadata": {},
   "outputs": [],
   "source": [
    "# Load selected listed company subsidiaries set\n",
    "ListCompSub_df = pd.read_csv(CASE_ROOT.joinpath(r'Listed companies subsidiaries.csv'),\n",
    "                             na_values = 'n.a.',\n",
    "                             dtype = {\n",
    "                                 col: str for col in ['BvD9', 'BvD_id', 'Sub_BvD9', 'Sub_BvD_id']\n",
    "                                     }\n",
    "                            )"
   ]
  },
  {
   "cell_type": "code",
   "execution_count": 6,
   "metadata": {},
   "outputs": [],
   "source": [
    "# Check if main performers are in the list of subsidiaries\n",
    "ListComp_df['Is a Sub'] = ListComp_df['BvD9'].isin(ListCompSub_df['Sub_BvD9'])\n",
    "\n",
    "# Check if duplicate subsidiaries    \n",
    "ListCompSub_df['Is a Perf'] = ListCompSub_df['Sub_BvD9'].isin(ListComp_df['BvD9'])\n",
    "ListCompSub_df['Is a First Sub Duplicate'] = ListCompSub_df.duplicated(subset = 'Sub_BvD9', keep = 'first')\n",
    "ListCompSub_df['Is a Sub Duplicate'] = ListCompSub_df.duplicated(subset = 'Sub_BvD9', keep = False)"
   ]
  },
  {
   "cell_type": "code",
   "execution_count": 7,
   "metadata": {},
   "outputs": [],
   "source": [
    "report.append({'Set': 'Initial',\n",
    "               '#Performers': ListComp_df['BvD9'].count().sum(),\n",
    "               '#Performers_beingSubs': ListComp_df['BvD9'][ListCompSub_df['Is a Perf'] == True].count().sum(),\n",
    "               '#Subs': ListCompSub_df['Sub_BvD9'].count().sum(),\n",
    "               '#Subs_beingPerfs': ListCompSub_df['Sub_BvD9'][ListComp_df['Is a Sub'] == True].count().sum(),               \n",
    "               '#Subs_Dupl': ListCompSub_df['Sub_BvD9'][ListCompSub_df['Is a Sub Duplicate'] == True].count().sum()\n",
    "              })"
   ]
  },
  {
   "cell_type": "code",
   "execution_count": 8,
   "metadata": {},
   "outputs": [],
   "source": [
    "# Drops not BVd identified subsidiaries and (group,subs) duplicates\n",
    "ListCompSub_df = ListCompSub_df.dropna().drop_duplicates(['BvD9','Sub_BvD9'])\n",
    "    \n",
    "    \n",
    "#axis = 'index', how = 'any', subset = ['BvD9','BvD_id','Sub_BvD9','Sub_BvD_id'], inplace = False)\n",
    "\n",
    "#ListCompSub_df = ListCompSub_df.drop_duplicates(['BvD_id','Sub_BvD_id'])"
   ]
  },
  {
   "cell_type": "code",
   "execution_count": 9,
   "metadata": {},
   "outputs": [],
   "source": [
    "report.append({'Set': 'Cleaned',\n",
    "               '#Performers': ListComp_df['BvD9'].count().sum(),\n",
    "               '#Performers_beingSubs': ListComp_df['BvD9'][ListCompSub_df['Is a Perf'] == True].count().sum(),\n",
    "               '#Subs': ListCompSub_df['Sub_BvD9'].count().sum(),\n",
    "               '#Subs_beingPerfs': ListCompSub_df['Sub_BvD9'][ListComp_df['Is a Sub'] == True].count().sum(),               \n",
    "               '#Subs_Dupl': ListCompSub_df['Sub_BvD9'][ListCompSub_df['Is a Sub Duplicate'] == True].count().sum()\n",
    "              })"
   ]
  },
  {
   "cell_type": "code",
   "execution_count": 10,
   "metadata": {},
   "outputs": [],
   "source": [
    "# Set of main performers that are not also a subsidiary\n",
    "ListComp_XPerfIsSub_df = ListComp_df[ListComp_df['Is a Sub'] == False]\n",
    "\n",
    "# Updated set of subsidiaries\n",
    "ListCompSub_XPerfIsSub_df = ListCompSub_df[ListCompSub_df['BvD9'].isin(ListComp_XPerfIsSub_df['BvD9'])].drop(\n",
    "    columns = ['Is a First Sub Duplicate', 'Is a Sub Duplicate']\n",
    ")\n",
    "\n",
    "# Check if duplicate subsidiaries    \n",
    "ListCompSub_XPerfIsSub_df['Is a First Sub Duplicate'] = ListCompSub_XPerfIsSub_df.duplicated(subset = 'Sub_BvD9', keep = 'first')\n",
    "ListCompSub_XPerfIsSub_df['Is a Sub Duplicate'] = ListCompSub_XPerfIsSub_df.duplicated(subset = 'Sub_BvD9', keep = False)"
   ]
  },
  {
   "cell_type": "code",
   "execution_count": 11,
   "metadata": {},
   "outputs": [],
   "source": [
    "report.append({'Set': 'Excluding performers that are subsidiaries',\n",
    "               '#Performers': ListComp_XPerfIsSub_df['BvD9'].count().sum(),\n",
    "               '#Performers_beingSubs': ListComp_XPerfIsSub_df['BvD9'][ListCompSub_XPerfIsSub_df['Is a Perf'] == True].count().sum(),\n",
    "               '#Subs': ListCompSub_XPerfIsSub_df['Sub_BvD9'].count().sum(),\n",
    "               '#Subs_beingPerfs': ListCompSub_XPerfIsSub_df['Sub_BvD9'][ListComp_XPerfIsSub_df['Is a Sub'] == True].count().sum(),               \n",
    "               '#Subs_Dupl': ListCompSub_XPerfIsSub_df['Sub_BvD9'][ListCompSub_XPerfIsSub_df['Is a Sub Duplicate'] == True].count().sum()\n",
    "              })"
   ]
  },
  {
   "cell_type": "code",
   "execution_count": 12,
   "metadata": {},
   "outputs": [],
   "source": [
    "report_df = pd.DataFrame(report)\n",
    "\n",
    "report_df = report_df[['Set','#Performers','#Performers_beingSubs','#Subs','#Subs_beingPerfs', '#Subs_Dupl']]"
   ]
  },
  {
   "cell_type": "code",
   "execution_count": null,
   "metadata": {},
   "outputs": [],
   "source": [
    "# Append report\n",
    "with open(CASE_ROOT.joinpath(r'Report.txt'),'a') as report:\n",
    "    report.write('#2 - Clean list of top R&D performers and subsidiaries\\n\\n')\n",
    "    report.write(tabulate(report_df, tablefmt = 'simple', headers = report_df.columns, showindex = False\n",
    "                         )\n",
    "                )\n",
    "    report.write('\\n\\n')\n",
    "    \n",
    "# Save output tables\n",
    "ListComp_df.to_csv(CASE_ROOT.joinpath(r'Listed companies.csv'),\n",
    "                   index = False,\n",
    "                   float_format = '%.10f',\n",
    "                   na_rep = 'n.a.'\n",
    "                  )\n",
    "\n",
    "ListCompSub_df.to_csv(CASE_ROOT.joinpath(r'Listed companies subsidiaries.csv'),\n",
    "                      index = False,\n",
    "                      float_format = '%.10f',\n",
    "                      na_rep = 'n.a.'\n",
    "                     )\n",
    "\n",
    "ListComp_XPerfIsSub_df.to_csv(CASE_ROOT.joinpath(r'Listed companies - XPerfIsSub.csv'),\n",
    "                        index = False,\n",
    "                        columns = ['BvD9', 'BvD_id','Company_name', 'Country_3DID_ISO', 'World_Player','RnD_mean','Y_LastAv','RnD_Y_LastAv'],\n",
    "                        float_format = '%.10f',\n",
    "                        na_rep = 'n.a.'\n",
    "                       )\n",
    "\n",
    "ListCompSub_XPerfIsSub_df.to_csv(CASE_ROOT.joinpath(r'Listed companies subsidiaries - XPerfIsSub.csv'),\n",
    "                           index = False,\n",
    "                           columns = ['BvD9', 'BvD_id', 'Company_name',  'Sub_BvD9', 'Sub_BvD_id'],\n",
    "                           float_format = '%.10f',\n",
    "                           na_rep = 'n.a.'\n",
    "                          )"
   ]
  }
 ],
 "metadata": {
  "kernelspec": {
   "display_name": "Python 3",
   "language": "python",
   "name": "python3"
  },
  "language_info": {
   "codemirror_mode": {
    "name": "ipython",
    "version": 3
   },
   "file_extension": ".py",
   "mimetype": "text/x-python",
   "name": "python",
   "nbconvert_exporter": "python",
   "pygments_lexer": "ipython3",
   "version": "3.7.3"
  }
 },
 "nbformat": 4,
 "nbformat_minor": 2
}
