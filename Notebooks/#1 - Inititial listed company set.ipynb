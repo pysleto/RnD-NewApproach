{
 "cells": [
  {
   "cell_type": "code",
   "execution_count": 1,
   "metadata": {},
   "outputs": [],
   "source": [
    "# Import libraries\n",
    "import os\n",
    "import pandas as pd\n",
    "from pathlib import Path\n",
    "import configparser\n",
    "import json\n",
    "from tabulate import tabulate"
   ]
  },
  {
   "cell_type": "code",
   "execution_count": 2,
   "metadata": {},
   "outputs": [],
   "source": [
    "base_path = Path(r'U:\\WP 765 Energy RIC\\Private data & analysis\\Alternative Approach_Private R&D\\Orbis_Data\\Data_2020')"
   ]
  },
  {
   "cell_type": "code",
   "execution_count": 3,
   "metadata": {},
   "outputs": [],
   "source": [
    "# Import config parameters\n",
    "config = configparser.ConfigParser(\n",
    "    converters={'list': lambda x: [i.strip() for i in x.split(',')]}\n",
    ")\n",
    "     \n",
    "config.read(base_path.joinpath(r'config.ini'))\n",
    "\n",
    "CASE = 'EU_28'\n",
    "\n",
    "MAPPING = Path(config.get('DEFAULT','MAPPING_PATH'))\n",
    "SCREENING_KEYS = config.getlist('DEFAULT','SCREENING_KEYS')\n",
    "\n",
    "REGION = config.getlist(CASE,'ORBIS_REGION')\n",
    "CASE_ROOT = base_path.joinpath(config.get(CASE,'CASE_ROOT_PATH'))\n",
    "YEAR_LASTAV = config.getint(CASE,'YEAR_LASTAV')\n",
    "SUBS_ID_FILE_N = config.getint(CASE,'SUBS_ID_FILE_N')\n",
    "SUBS_FIN_FILE_N = config.getint(CASE,'SUBS_FIN_FILE_N')\n",
    "GROUPS_FIN_FILE_N = config.getint(CASE,'GROUPS_FIN_FILE_N')\n",
    "METHOD = config.get(CASE,'SUBS_METHOD')"
   ]
  },
  {
   "cell_type": "code",
   "execution_count": 4,
   "metadata": {},
   "outputs": [
    {
     "name": "stdout",
     "output_type": "stream",
     "text": [
      "EU_28\n"
     ]
    }
   ],
   "source": [
    "# Initialize DFs\n",
    "ListComp_df = pd.DataFrame()\n",
    "report_df = pd.DataFrame()\n",
    "\n",
    "for region in REGION:\n",
    "    \n",
    "    print(region)\n",
    "\n",
    "    # Read ORBIS input list of publically listed companies by world region region\n",
    "    df = pd.read_excel(CASE_ROOT.joinpath(r'Input\\Listed companies - ' + region + '.xlsx'),\n",
    "                       sheet_name = 'Results',                       \n",
    "                       names = ['Rank', 'Company_name', 'BvD9', 'BvD_id', 'Country_2DID_ISO'] + ['RnD_Y' + str(YY) for YY in range(10,19)[::-1]],\n",
    "                       na_values = 'n.a.',\n",
    "                       dtype = {\n",
    "                           **{col: str for col in ['Company_name', 'BvD9', 'BvD_id', 'Country_2DID_ISO']},\n",
    "                           **{col: float for col in ['RnD_Y' + str(YY) for YY in range(10,20)]}\n",
    "                       }\n",
    "                      ).drop(columns = 'Rank')\n",
    " \n",
    "    df['Y_LastAv'] = YEAR_LASTAV\n",
    "                           \n",
    "    df['RnD_mean'] = df[['RnD_Y' + str(YY) for YY in range(10,19)]].mean(axis = 1, skipna = True)\n",
    "    \n",
    "    df['RnD_Y_LastAv'] = df['RnD_Y' + str(abs(YEAR_LASTAV) % 100)]\n",
    "                           \n",
    "    # Identify the top companies that constitute 99% of the R&D expenses    \n",
    "    start = 0.0\n",
    "    count = 0    \n",
    "\n",
    "    while start < 0.99 * df['RnD_mean'].sum():\n",
    "        count += 1\n",
    "        start = df.nlargest(count, ['RnD_mean'])['RnD_mean'].sum()\n",
    "        \n",
    "    ListComp_df_region = df.nlargest(count, ['RnD_mean'])\n",
    "                             \n",
    "    # ListComp_df_region['Region'] = region                       \n",
    "    \n",
    "    # Calculates main regional satistics\n",
    "    region_report_df = pd.DataFrame({'Year': YEAR_LASTAV,\n",
    "                                     'Total_BvD9_count': df['BvD9'].count().sum(),\n",
    "                                     'Total_BvD_id_count': df['BvD_id'].count().sum(),\n",
    "                                     'Total_RnD_mean': df['RnD_mean'].sum(),\n",
    "                                     'Selected_BvD9_count': ListComp_df_region['BvD9'].count().sum(),\n",
    "                                     'Selected_BvD_id_count': ListComp_df_region['BvD_id'].count().sum(),\n",
    "                                     'Sum_of_selected_RnD_mean': ListComp_df_region['RnD_mean'].sum()\n",
    "                                    }, index = [region])\n",
    "    \n",
    "    # Consolidate statistics and list of top R&D performers over different regions\n",
    "    ListComp_df = ListComp_df.append(ListComp_df_region)\n",
    "    \n",
    "    report_df = report_df.append(region_report_df)\n",
    "    report_df.index.name = region"
   ]
  },
  {
   "cell_type": "code",
   "execution_count": 5,
   "metadata": {},
   "outputs": [],
   "source": [
    "# Drop duplicates\n",
    "ListComp_df_clean = ListComp_df.drop_duplicates(subset = 'BvD_id', keep = 'first')\n",
    "\n",
    "# Update satistics\n",
    "region_report_df = pd.DataFrame({'Year': YEAR_LASTAV,\n",
    "                                 'Total_BvD9_count': ListComp_df['BvD9'].count().sum(),\n",
    "                                 'Total_BvD_id_count': ListComp_df['BvD_id'].count().sum(),\n",
    "                                 'Total_RnD_mean': ListComp_df['RnD_mean'].sum(),\n",
    "                                 'Selected_BvD9_count': ListComp_df_clean['BvD9'].count().sum(),\n",
    "                                 'Selected_BvD_id_count': ListComp_df_clean['BvD_id'].count().sum(),\n",
    "                                 'Sum_of_selected_RnD_mean': ListComp_df_clean['RnD_mean'].sum()\n",
    "                                }, index = ['Clean_Bvd_ID'])\n",
    "\n",
    "report_df = report_df.append(region_report_df)\n",
    "report_df.index.name = 'Clean_Bvd_ID'"
   ]
  },
  {
   "cell_type": "code",
   "execution_count": 6,
   "metadata": {},
   "outputs": [],
   "source": [
    "# Drop duplicates \n",
    "ListComp_df_clean = ListComp_df.drop_duplicates(subset = 'BvD9', keep = 'first')\n",
    "\n",
    "# Update satistics\n",
    "region_report_df = pd.DataFrame({'Year': YEAR_LASTAV,\n",
    "                                 'Total_BvD9_count': ListComp_df['BvD9'].count().sum(),\n",
    "                                 'Total_BvD_id_count': ListComp_df['BvD_id'].count().sum(),\n",
    "                                 'Total_RnD_mean': ListComp_df['RnD_mean'].sum(),\n",
    "                                 'Selected_BvD9_count': ListComp_df_clean['BvD9'].count().sum(),\n",
    "                                 'Selected_BvD_id_count': ListComp_df_clean['BvD_id'].count().sum(),\n",
    "                                 'Sum_of_selected_RnD_mean': ListComp_df_clean['RnD_mean'].sum()\n",
    "                                }, index = ['Clean_Bvd9'])\n",
    "\n",
    "report_df = report_df.append(region_report_df)\n",
    "report_df.index.name = 'Clean_Bvd9'"
   ]
  },
  {
   "cell_type": "code",
   "execution_count": 7,
   "metadata": {},
   "outputs": [],
   "source": [
    "# Read Country mapping file\n",
    "country_df = pd.read_csv(CASE_ROOT.joinpath(r'Mapping\\Country_table.csv'))"
   ]
  },
  {
   "cell_type": "code",
   "execution_count": 8,
   "metadata": {},
   "outputs": [],
   "source": [
    "# Merging group exposure with group RnD\n",
    "ListComp_df_clean_merge = pd.merge(\n",
    "    ListComp_df_clean, country_df[['Country_2DID_ISO','Country_3DID_ISO','World_Player']],\n",
    "    left_on='Country_2DID_ISO', right_on='Country_2DID_ISO',\n",
    "    how='left',\n",
    "    suffixes=(False, False)\n",
    ")"
   ]
  },
  {
   "cell_type": "code",
   "execution_count": 9,
   "metadata": {},
   "outputs": [],
   "source": [
    "# Append report\n",
    "with open(CASE_ROOT.joinpath(r'Report.txt'),'w') as report:\n",
    "    report.write('Step #1 - Inititial listed company set\\n\\n' + 'RnD in EUR million\\n\\n')\n",
    "    report.write(tabulate(report_df, tablefmt = 'simple', headers = report_df.columns))\n",
    "    report.write('\\n\\n')    \n",
    "\n",
    "# Save output tables \n",
    "ListComp_df_clean_merge.to_csv(CASE_ROOT.joinpath(r'Listed companies.csv'),\n",
    "                   index = False,\n",
    "                   columns = ['BvD9', 'BvD_id','Company_name', 'Country_3DID_ISO', 'World_Player','RnD_mean','Y_LastAv','RnD_Y_LastAv'],\n",
    "                   float_format = '%.10f',\n",
    "                   na_rep = 'n.a.'\n",
    "                  )"
   ]
  }
 ],
 "metadata": {
  "kernelspec": {
   "display_name": "Python 3",
   "language": "python",
   "name": "python3"
  },
  "language_info": {
   "codemirror_mode": {
    "name": "ipython",
    "version": 3
   },
   "file_extension": ".py",
   "mimetype": "text/x-python",
   "name": "python",
   "nbconvert_exporter": "python",
   "pygments_lexer": "ipython3",
   "version": "3.7.3"
  }
 },
 "nbformat": 4,
 "nbformat_minor": 2
}
