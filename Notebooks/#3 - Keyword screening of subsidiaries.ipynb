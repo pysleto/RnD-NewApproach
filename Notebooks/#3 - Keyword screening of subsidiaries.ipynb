{
 "cells": [
  {
   "cell_type": "code",
   "execution_count": 1,
   "metadata": {},
   "outputs": [],
   "source": [
    "# Import libraries\n",
    "import os\n",
    "import pandas as pd\n",
    "from pathlib import Path\n",
    "import configparser\n",
    "import json\n",
    "from tabulate import tabulate"
   ]
  },
  {
   "cell_type": "code",
   "execution_count": 2,
   "metadata": {},
   "outputs": [],
   "source": [
    "# Initialize\n",
    "base_path = Path(r'U:\\WP 765 Energy RIC\\Private data & analysis\\Alternative Approach_Private R&D\\Orbis_Data\\Data_2020')\n",
    "\n",
    "report = []"
   ]
  },
  {
   "cell_type": "code",
   "execution_count": 3,
   "metadata": {},
   "outputs": [],
   "source": [
    "# Import config parameters\n",
    "config = configparser.ConfigParser(\n",
    "    converters={'list': lambda x: [i.strip() for i in x.split(',')]}\n",
    ")\n",
    "     \n",
    "config.read(base_path.joinpath(r'config.ini'))\n",
    "\n",
    "CASE = 'EU_28'\n",
    "\n",
    "MAPPING = Path(config.get('DEFAULT','MAPPING_PATH'))\n",
    "SCREENING_KEYS = config.getlist('DEFAULT','SCREENING_KEYS')\n",
    "\n",
    "REGION = config.getlist(CASE,'ORBIS_REGION')\n",
    "CASE_ROOT = base_path.joinpath(config.get(CASE,'CASE_ROOT_PATH'))\n",
    "YEAR_LASTAV = config.getint(CASE,'YEAR_LASTAV')\n",
    "SUBS_ID_FILE_N = config.getint(CASE,'SUBS_ID_FILE_N')\n",
    "SUBS_FIN_FILE_N = config.getint(CASE,'SUBS_FIN_FILE_N')\n",
    "GROUPS_FIN_FILE_N = config.getint(CASE,'GROUPS_FIN_FILE_N')\n",
    "METHOD = config.get(CASE,'SUBS_METHOD')"
   ]
  },
  {
   "cell_type": "code",
   "execution_count": 4,
   "metadata": {},
   "outputs": [],
   "source": [
    "# Read ORBIS input list for subsidiaries financials\n",
    "Subs_fin_df = pd.read_csv(CASE_ROOT.joinpath(r'Listed companies subsidiaries - Financials.csv'),\n",
    "                          na_values = 'n.a.',\n",
    "                          dtype = {\n",
    "                              col: str for col in ['BvD9', 'BvD_id']\n",
    "                          }\n",
    "                         )"
   ]
  },
  {
   "cell_type": "code",
   "execution_count": 5,
   "metadata": {},
   "outputs": [],
   "source": [
    "report.append({'Set': 'Initial',\n",
    "               '#Subs': Subs_fin_df['BvD9'].count().sum(),\n",
    "               '#Subs with clean RnD keyword': 'n.a.'\n",
    "              })"
   ]
  },
  {
   "cell_type": "code",
   "execution_count": 6,
   "metadata": {},
   "outputs": [],
   "source": [
    "# Drops not BVd identified subsidiaries and duplicates\n",
    "Subs_fin_df = Subs_fin_df.drop_duplicates('BvD9')"
   ]
  },
  {
   "cell_type": "code",
   "execution_count": 7,
   "metadata": {},
   "outputs": [],
   "source": [
    "report.append({'Set': 'Clean',\n",
    "               '#Subs': Subs_fin_df['BvD9'].count().sum(),\n",
    "               '#Subs with clean RnD keyword': 'n.a.'               \n",
    "              })"
   ]
  },
  {
   "cell_type": "code",
   "execution_count": 8,
   "metadata": {},
   "outputs": [],
   "source": [
    "# Read keywords\n",
    "with open(base_path.joinpath(r'Keywords.json'), 'r') as file:\n",
    "    keywords = json.load(file)\n",
    "    \n",
    "categories = list(keywords.keys())\n",
    "    \n",
    "# Calculate exposure mask    \n",
    "for category in categories:    \n",
    "    \n",
    "    Subs_fin_df[category] = False\n",
    "    \n",
    "    for keyword in keywords[category]:\n",
    "        \n",
    "#        df['Trade_check'] = df['Trade_desc'].str.contains(keyword, regex = False)\n",
    "#        df['Prod_check'] = df['Prod&Serv_desc'].str.contains(keyword, regex = False)\n",
    "#        df['FullOverview_check'] = df['FullOverview_desc'].str.contains(keyword, regex = False)\n",
    "        \n",
    "        Subs_fin_df[category] |=  Subs_fin_df['Trade_desc'].str.contains(keyword, case = False, regex = False) | Subs_fin_df['Prod&Serv_desc'].str.contains(keyword, case = False, regex = False) | Subs_fin_df['FullOverview_desc'].str.contains(keyword, case = False, regex = False)       "
   ]
  },
  {
   "cell_type": "code",
   "execution_count": 9,
   "metadata": {},
   "outputs": [],
   "source": [
    "# Calculate exposure at subsidiary level\n",
    "Sub_exp_df = Subs_fin_df.loc[:,['Company_name', 'BvD9'] + categories]\n",
    "    \n",
    "Sub_exp_df['Sub_Turnover'] = Subs_fin_df.loc[:,['OpRevY' + str(YY) for YY in range(10,20)]].sum(axis = 1)\n",
    "\n",
    "Sub_exp_df['Keyword_mask'] = list(map(bool, Subs_fin_df[[cat for cat in categories if cat not in ['Generation','RnD']]].sum(axis = 1)))"
   ]
  },
  {
   "cell_type": "code",
   "execution_count": 10,
   "metadata": {},
   "outputs": [],
   "source": [
    "report.append({'Set': 'Screened',\n",
    "               '#Subs': Subs_fin_df['BvD9'].count().sum(),\n",
    "               '#Subs matching keywords': Sub_exp_df.loc[Sub_exp_df['Keyword_mask'] == True,'BvD9'].count().sum()\n",
    "              })"
   ]
  },
  {
   "cell_type": "code",
   "execution_count": 11,
   "metadata": {},
   "outputs": [],
   "source": [
    "report_df = pd.DataFrame(report)\n",
    "\n",
    "report_df = report_df[['Set','#Subs','#Subs matching keywords']]"
   ]
  },
  {
   "cell_type": "code",
   "execution_count": 13,
   "metadata": {},
   "outputs": [],
   "source": [
    "# Append report\n",
    "with open(CASE_ROOT.joinpath(r'Report.txt'),'a') as report:\n",
    "    report.write('#3 - Keyword screening of subsidiaries\\n\\n')\n",
    "    report.write(tabulate(report_df, tablefmt = 'simple', headers = report_df.columns, showindex = False\n",
    "                         )\n",
    "                )\n",
    "    report.write('\\n\\n')\n",
    "    \n",
    "# Save output tables\n",
    "Subs_fin_df.to_csv(CASE_ROOT.joinpath(r'Listed companies subsidiaries - Financials.csv'),\n",
    "                   index = False,\n",
    "                   float_format = '%.10f',\n",
    "                   na_rep = 'n.a.'\n",
    "                  )\n",
    "\n",
    "Sub_exp_df.to_csv(CASE_ROOT.joinpath(r'Listed companies subsidiaries - Screening.csv'),\n",
    "                  index = False,\n",
    "                  columns = ['BvD9'] + SCREENING_KEYS,\n",
    "                  float_format = '%.10f',\n",
    "                  na_rep = 'n.a.'\n",
    "                 )"
   ]
  }
 ],
 "metadata": {
  "kernelspec": {
   "display_name": "Python 3",
   "language": "python",
   "name": "python3"
  },
  "language_info": {
   "codemirror_mode": {
    "name": "ipython",
    "version": 3
   },
   "file_extension": ".py",
   "mimetype": "text/x-python",
   "name": "python",
   "nbconvert_exporter": "python",
   "pygments_lexer": "ipython3",
   "version": "3.7.3"
  }
 },
 "nbformat": 4,
 "nbformat_minor": 2
}
