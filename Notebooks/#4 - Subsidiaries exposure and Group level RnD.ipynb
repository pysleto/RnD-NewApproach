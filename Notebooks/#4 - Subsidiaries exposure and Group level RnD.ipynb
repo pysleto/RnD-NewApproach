{
 "cells": [
  {
   "cell_type": "code",
   "execution_count": null,
   "metadata": {},
   "outputs": [],
   "source": [
    "# Import libraries\n",
    "import os\n",
    "import pandas as pd\n",
    "from pathlib import Path\n",
    "import configparser\n",
    "import json\n",
    "from tabulate import tabulate"
   ]
  },
  {
   "cell_type": "code",
   "execution_count": null,
   "metadata": {},
   "outputs": [],
   "source": [
    "# Initialize\n",
    "base_path = Path(r'U:\\WP 765 Energy RIC\\Private data & analysis\\Alternative Approach_Private R&D\\Orbis_Data\\Data_2020')\n",
    "\n",
    "report = []"
   ]
  },
  {
   "cell_type": "code",
   "execution_count": null,
   "metadata": {},
   "outputs": [],
   "source": [
    "# Import config parameters\n",
    "config = configparser.ConfigParser(\n",
    "    converters={'list': lambda x: [i.strip() for i in x.split(',')]}\n",
    ")\n",
    "     \n",
    "config.read(base_path.joinpath(r'config.ini'))\n",
    "\n",
    "CASE = 'EU_28'\n",
    "\n",
    "MAPPING = Path(config.get('DEFAULT','MAPPING_PATH'))\n",
    "SCREENING_KEYS = config.getlist('DEFAULT','SCREENING_KEYS')\n",
    "\n",
    "REGION = config.getlist(CASE,'ORBIS_REGION')\n",
    "CASE_ROOT = base_path.joinpath(config.get(CASE,'CASE_ROOT_PATH'))\n",
    "YEAR_LASTAV = config.getint(CASE,'YEAR_LASTAV')\n",
    "SUBS_ID_FILE_N = config.getint(CASE,'SUBS_ID_FILE_N')\n",
    "SUBS_FIN_FILE_N = config.getint(CASE,'SUBS_FIN_FILE_N')\n",
    "GROUPS_FIN_FILE_N = config.getint(CASE,'GROUPS_FIN_FILE_N')\n",
    "METHOD = config.get(CASE,'SUBS_METHOD')"
   ]
  },
  {
   "cell_type": "code",
   "execution_count": null,
   "metadata": {},
   "outputs": [],
   "source": [
    "with open(base_path.joinpath(r'Keywords.json'), 'r') as file:\n",
    "    keywords = json.load(file)\n",
    "\n",
    "# Read subsidiaries keyword screening\n",
    "Sub_keyword_mask_df = pd.read_csv(\n",
    "    CASE_ROOT.joinpath(r'Listed companies subsidiaries - Screening.csv')\n",
    ").drop(\n",
    "    columns = keywords.keys()\n",
    ").rename(\n",
    "    columns={'BvD_id': 'Sub_BvD_id','Company_name': 'Sub_Company_name'}\n",
    ")\n",
    "\n",
    "Sub_keyword_mask_df['Sub_Turnover_masked'] = Sub_keyword_mask_df['Sub_Turnover'].mask(~Sub_keyword_mask_df['Keyword_mask'])"
   ]
  },
  {
   "cell_type": "code",
   "execution_count": null,
   "metadata": {},
   "outputs": [],
   "source": [
    "# Read subsidiaries to group mapping\n",
    "Sub_ingroup_df = pd.read_csv(CASE_ROOT.joinpath(r'Listed companies subsidiaries.csv'))"
   ]
  },
  {
   "cell_type": "code",
   "execution_count": null,
   "metadata": {},
   "outputs": [],
   "source": [
    "# Read ORBIS input list for groups financials\n",
    "Groups_fin_df = pd.read_csv(CASE_ROOT.joinpath(r'Listed companies - Financials.csv'),\n",
    "                            na_values = 'n.a.'\n",
    "                           )"
   ]
  },
  {
   "cell_type": "code",
   "execution_count": null,
   "metadata": {},
   "outputs": [],
   "source": [
    "# Read Subsidiary financials - RnD expenses\n",
    "#Sub_fin_df = pd.read_excel(INPUT.joinpath(r'Subsidiaries - Financials - RnD.xlsx'),\n",
    "#                             sheet_name = 'Results',\n",
    "#                             names = ['Rank', 'Sub_Company_name', 'Sub_BvD_id', 'Sub_Country_ISO', 'Sub_NACE_Code', 'Sub_NACE_desc', 'Year_LastAv']\n",
    "#                             + ['Sub_RnD_Y_LastAv', 'Sub_Emp_number', 'Sub_OpRev_Y_LastAv', 'Sub_NetSales_Y_LastAv']\n",
    "#                             + ['Sub_RnD_Y' + str(YY) for YY in range(10,20)[::-1]],\n",
    "#                             na_values = 'n.a.',\n",
    "#                             dtype = {\n",
    "#                                 **{col: str for col in ['Sub_Company_name', 'Sub_BvD_id', 'Country_ISO', 'NACE_Code', 'NACE_desc']},\n",
    "#                                 **{col: float for col in ['RnD_Y_LastAv','Emp_number', 'OpRev_Y_LastAv', 'NetSales_Y_LastAv'] \n",
    "#                                    + ['RnD_Y' + str(YY) for YY in range(10,20)]\n",
    "#                                   },\n",
    "#                                 **{'Year_LastAvail': pd.Int16Dtype()}\n",
    "#                             } \n",
    "#                            ).drop(columns = ['Rank', 'Sub_Country_ISO', 'Sub_NACE_Code', 'Sub_NACE_desc', 'Year_LastAv'])"
   ]
  },
  {
   "cell_type": "code",
   "execution_count": null,
   "metadata": {},
   "outputs": [],
   "source": [
    "report.append({'': 'With financials',\n",
    "               '#Performers': Groups_fin_df['BvD_id'].count().sum()\n",
    "              })"
   ]
  },
  {
   "cell_type": "code",
   "execution_count": null,
   "metadata": {},
   "outputs": [],
   "source": [
    "# Read List of performers\n",
    "Group_beingSub_df = pd.read_csv(CASE_ROOT.joinpath(r'Listed companies.csv'))\n",
    "\n",
    "Groups_fin_df = Grousp_fin_df[Groups_fin_df['BvD_id'].isin(Group_beingSub_df['BvD_id'])]"
   ]
  },
  {
   "cell_type": "code",
   "execution_count": null,
   "metadata": {},
   "outputs": [],
   "source": [
    "report.append({'': 'That are not a subsidiary',\n",
    "               '#Performers': Groups_fin_df['BvD_id'].count().sum()\n",
    "              })"
   ]
  },
  {
   "cell_type": "code",
   "execution_count": null,
   "metadata": {},
   "outputs": [],
   "source": [
    "# Merging group indentification with subsidiaries keyword screening \n",
    "Sub_exp_df = pd.merge(\n",
    "    Sub_keyword_mask_df, Sub_ingroup_df,\n",
    "    left_on='Sub_BvD_id', right_on='Sub_BvD_id',\n",
    "    how='left'\n",
    ")\n",
    "\n",
    "# Calculating group exposure\n",
    "Group_exp_df = Sub_exp_df[['BvD_id', 'Company_name','Sub_Turnover','Sub_Turnover_masked']].groupby(['BvD_id','Company_name']).sum().rename(\n",
    "    columns={'Sub_Turnover': 'Total_Sub_Turnover_in_group','Sub_Turnover_masked': 'Total_Sub_Turnover_masked_in_group'}\n",
    ")\n",
    "\n",
    "Group_exp_df['Group_exp'] = Group_exp_df['Total_Sub_Turnover_masked_in_group'] / Group_exp_df['Total_Sub_Turnover_in_group']\n",
    "\n",
    "Sub_exp_df = pd.merge(\n",
    "    Sub_exp_df, Group_exp_df[['Total_Sub_Turnover_masked_in_group','Total_Sub_Turnover_in_group','Group_exp']],\n",
    "    left_on='BvD_id', right_on='BvD_id',    \n",
    "   how='left'\n",
    ")\n",
    "\n",
    "# Calulcating subsidiary level exposure\n",
    "Sub_exp_df['Sub_exp'] = Sub_exp_df['Sub_Turnover_masked'] / Sub_exp_df['Total_Sub_Turnover_in_group']"
   ]
  },
  {
   "cell_type": "code",
   "execution_count": null,
   "metadata": {},
   "outputs": [],
   "source": [
    "# Merging subsidiary exposure with subsidiary RnD expenses\n",
    "#Sub_RnD_df = pd.merge(\n",
    "#    Sub_exp_df, Sub_fin_df[['Sub_BvD_id', 'Sub_Company_name'] + ['Sub_RnD_Y' + str(YY) for YY in range(10,20)[::-1]]],\n",
    "#    left_on='Sub_BvD_id', right_on='Sub_BvD_id',\n",
    "#    how='left'\n",
    "#)\n",
    "\n",
    "#Sub_RnD_df = Sub_RnD_df.melt(id_vars =['Sub_BvD_id','Sub_Company_name_x','Sub_Turnover_masked','Total_Sub_Turnover_in_group','Sub_exp'],\n",
    "#                  value_vars =['Sub_RnD_Y' + str(YY) for YY in range(10,20)[::-1]],\n",
    "#                  var_name ='RnD_label', value_name ='Sub_RnD') \n",
    "\n",
    "#Sub_RnD_df['Year'] = [int('20' + s[-2:]) for s in Sub_RnD_df['RnD_label']]\n",
    "\n",
    "#Sub_RnD_df['Sub_Clean_RnD'] = Sub_RnD_df['Sub_RnD'] * Sub_RnD_df['Sub_exp']"
   ]
  },
  {
   "cell_type": "code",
   "execution_count": null,
   "metadata": {},
   "outputs": [],
   "source": [
    "# Merging group exposure with group RnD\n",
    "Group_RnD_df = pd.merge(\n",
    "    Group_exp_df, Groups_fin_df[['BvD_id', 'Company_name'] + ['RnD_Y' + str(YY) for YY in range(10,20)[::-1]]],\n",
    "    left_on='BvD_id', right_on='BvD_id',\n",
    "    how='left'\n",
    ")\n",
    "\n",
    "Group_RnD_df = Group_RnD_df.melt(id_vars =['BvD_id','Company_name','Total_Sub_Turnover_in_group','Total_Sub_Turnover_masked_in_group','Group_exp'],\n",
    "                  value_vars =['RnD_Y' + str(YY) for YY in range(10,20)[::-1]],\n",
    "                  var_name ='RnD_label', value_name ='Group_RnD') \n",
    "\n",
    "Group_RnD_df['Year'] = [int('20' + s[-2:]) for s in Group_RnD_df['RnD_label']]\n",
    "\n",
    "Group_RnD_df['Group_Clean_RnD'] = Group_RnD_df['Group_RnD'] * Group_RnD_df['Group_exp']"
   ]
  },
  {
   "cell_type": "code",
   "execution_count": null,
   "metadata": {},
   "outputs": [],
   "source": [
    "report.append({'': 'With keyword matching subsidiaries',\n",
    "               '#Performers': Sub_exp_df.loc[Sub_exp_df['Keyword_mask'] == True,'BvD_id'].drop_duplicates().count().sum()\n",
    "              })\n",
    "\n",
    "report.append({'': 'With Clean RnD',\n",
    "               '#Performers': Group_RnD_df.loc[Group_RnD_df['Group_Clean_RnD'] > 0,'BvD_id'].drop_duplicates().count().sum()\n",
    "              })"
   ]
  },
  {
   "cell_type": "code",
   "execution_count": null,
   "metadata": {},
   "outputs": [],
   "source": [
    "report_df = pd.DataFrame(report)\n",
    "\n",
    "report_df = report_df[['','#Performers']]"
   ]
  },
  {
   "cell_type": "code",
   "execution_count": null,
   "metadata": {},
   "outputs": [],
   "source": [
    "# Append report\n",
    "with open(CASE_ROOT.joinpath(r'Report.txt'),'a') as report:\n",
    "    report.write('#4 - Subsidiaries exposure and Group level RnD\\n\\n')\n",
    "    report.write(tabulate(report_df, tablefmt = 'simple', headers = report_df.columns, showindex = False\n",
    "                         )\n",
    "                )\n",
    "    report.write('\\n\\n')\n",
    "    \n",
    "# Save output tables\n",
    "Sub_exp_df.to_csv(CASE_ROOT.joinpath(r'Listed companies subsidiaries - Exposure.csv'),\n",
    "                  index = False,\n",
    "                  float_format = '%.10f',\n",
    "                  na_rep = 'n.a.',\n",
    "                  columns = ['BvD_id', 'Company_name', 'Total_Sub_Turnover_masked_in_group', 'Total_Sub_Turnover_in_group',\n",
    "                             'Group_exp','Sub_BvD_id','Sub_Company_name','Sub_Turnover','Keyword_mask','Sub_Turnover_masked',\n",
    "                             'Sub_exp'\n",
    "                            ]\n",
    "                 )\n",
    "\n",
    "\n",
    "Sub_exp_df[Sub_exp_df['Keyword_mask'] == True].to_csv(CASE_ROOT.joinpath(r'Listed companies subsidiaries - Exposure - Short.csv'),\n",
    "                                                      index = False,\n",
    "                                                      float_format = '%.10f',\n",
    "                                                      na_rep = 'n.a.',\n",
    "                                                      columns = ['BvD_id', 'Company_name', 'Total_Sub_Turnover_masked_in_group',\n",
    "                                                                 'Total_Sub_Turnover_in_group','Group_exp','Sub_BvD_id',\n",
    "                                                                 'Sub_Company_name','Sub_Turnover','Keyword_mask',\n",
    "                                                                 'Sub_Turnover_masked','Sub_exp'\n",
    "                                                                ]\n",
    "                                                     )\n",
    "\n",
    "#Sub_RnD_df.to_csv(OUTPUT.joinpath(r'Subsidiaries - RnD estimates - Full.csv'),\n",
    "#                    index = False,\n",
    "#                    columns = ['Sub_BvD_id','Sub_Company_name_x','Sub_Turnover_masked','Total_Sub_Turnover_in_group',\n",
    "#                               'Sub_exp','Year','Sub_RnD','Sub_Clean_RnD'\n",
    "#                              ],\n",
    "#                    float_format = '%.10f',\n",
    "#                    na_rep = 'n.a.'\n",
    "#                   )\n",
    "\n",
    "Group_exp_df[Group_exp_df['Group_exp'] > 0].to_csv(CASE_ROOT.joinpath(r'Listed companies - Exposure.csv'),\n",
    "                   float_format = '%.10f',\n",
    "                   na_rep = 'n.a.'\n",
    "                   )\n",
    "\n",
    "Groups_fin_df.to_csv(CASE_ROOT.joinpath(r'Listed companies - Financials.csv'),\n",
    "                   index = False,\n",
    "                   float_format = '%.10f',\n",
    "                   na_rep = 'n.a.'\n",
    "                   )\n",
    "\n",
    "Group_RnD_df.to_csv(CASE_ROOT.joinpath(r'Listed companies - RnD estimates.csv'),\n",
    "                    index = False,\n",
    "                    columns = ['BvD_id','Company_name','Sub_Turnover_masked','Total_Sub_Turnover_in_group',\n",
    "                               'Group_exp','Year','Group_RnD','Group_Clean_RnD'\n",
    "                              ],\n",
    "                    float_format = '%.10f',\n",
    "                    na_rep = 'n.a.'\n",
    "                   )\n",
    "\n",
    "Group_RnD_df[Group_RnD_df['Group_Clean_RnD'] > 0].to_csv(CASE_ROOT.joinpath(r'Listed companies - RnD estimates - Short.csv'),\n",
    "                    index = False,\n",
    "                    columns = ['BvD_id','Company_name','Total_Sub_Turnover_masked_in_group','Total_Sub_Turnover_in_group',\n",
    "                               'Group_exp','Year','Group_RnD','Group_Clean_RnD'\n",
    "                              ],\n",
    "                    float_format = '%.10f',\n",
    "                    na_rep = 'n.a.'\n",
    "                   )"
   ]
  },
  {
   "cell_type": "code",
   "execution_count": null,
   "metadata": {},
   "outputs": [],
   "source": []
  }
 ],
 "metadata": {
  "kernelspec": {
   "display_name": "Python 3",
   "language": "python",
   "name": "python3"
  },
  "language_info": {
   "codemirror_mode": {
    "name": "ipython",
    "version": 3
   },
   "file_extension": ".py",
   "mimetype": "text/x-python",
   "name": "python",
   "nbconvert_exporter": "python",
   "pygments_lexer": "ipython3",
   "version": "3.7.3"
  }
 },
 "nbformat": 4,
 "nbformat_minor": 2
}
