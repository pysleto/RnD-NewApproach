{
 "cells": [
  {
   "cell_type": "code",
   "execution_count": 1,
   "metadata": {},
   "outputs": [],
   "source": [
    "# Import libraries\n",
    "import os\n",
    "import pandas as pd\n",
    "from pathlib import Path\n",
    "import configparser"
   ]
  },
  {
   "cell_type": "code",
   "execution_count": 2,
   "metadata": {},
   "outputs": [],
   "source": [
    "AltApp_path = Path(r\"U:\\WP 765 Energy RIC\\Private data & analysis\\Alternative Approach_Private R&D\")"
   ]
  },
  {
   "cell_type": "code",
   "execution_count": null,
   "metadata": {},
   "outputs": [],
   "source": [
    "# Import config parameters\n",
    "file = AltApp_path.joinpath(r'Orbis_Data\\Data_2020\\Inputs tables\\config.ini')\n",
    "\n",
    "config = configparser.ConfigParser(\n",
    "    converters={'list': lambda x: [i.strip() for i in x.split(',')]}\n",
    ")\n",
    "     \n",
    "config.read(file)\n",
    "\n",
    "CASE = 'EU_28'\n",
    "\n",
    "REGION = config.getlist(CASE,'ORBIS_REGION')\n",
    "PATH = config.get(CASE,'TEST_PATH')\n",
    "YEAR_LASTAV = config.getint(CASE,'YEAR_LASTAV')\n",
    "FILE_N = config.getint(CASE,'SUBS_ID_FILE_N')\n"
   ]
  },
  {
   "cell_type": "code",
   "execution_count": 3,
   "metadata": {},
   "outputs": [],
   "source": [
    "report = []\n",
    "report_DupSubs_bylvl = []"
   ]
  },
  {
   "cell_type": "code",
   "execution_count": 5,
   "metadata": {},
   "outputs": [],
   "source": [
    "# Read # 1 - Inititial listed company set\n",
    "file = AltApp_path.joinpath(r'Orbis_Data\\Data_2020\\Output tables\\Listed companies - Main R&D performers.csv')\n",
    "\n",
    "ListComp_df = pd.read_csv(file)"
   ]
  },
  {
   "cell_type": "code",
   "execution_count": 6,
   "metadata": {},
   "outputs": [],
   "source": [
    "ListCompSub_df = pd.DataFrame()\n",
    "\n",
    "# Read ORBIS input list for subsidiaries of publically listed companies by world region region\n",
    "for number in [range(1,FILE_N)]:\n",
    "    \n",
    "    file = AltApp_path.joinpath(r'Orbis_Data\\Data_2020\\Inputs tables' + PATH + 'Listed R&D performers - Subsidiaries #' + str(number) + '.xlsx'                           )\n",
    "    \n",
    "    df = pd.read_excel(file,\n",
    "                       sheet_name = 'Results',\n",
    "                       na_values = 'No data fulfill your filter criteria',\n",
    "                       names = ['Rank', 'Company_name', 'BvD_id', 'Group_Subs_Count', 'Sub_BvD_id', 'Subs_lvl'],\n",
    "                       dtype = {'BvD_id': str,'Group_Subs_Count': pd.Int64Dtype(), 'Sub_BvD_id': str, 'Subs_lvl': pd.Int8Dtype()}\n",
    "                      ).drop(columns = ['Rank','Subs_lvl','Group_Subs_Count'])\n",
    "\n",
    "    # Consolidate list of subsidiaries\n",
    "    ListCompSub_df = ListCompSub_df.append(df)\n",
    "    \n",
    "# Drops not BVd identified subsidiaries and (group,subs) duplicates\n",
    "ListCompSub_df = ListCompSub_df[~pd.isnull(ListCompSub_df['BvD_id'])].drop_duplicates(['BvD_id','Sub_BvD_id'], inplace = True)"
   ]
  },
  {
   "cell_type": "code",
   "execution_count": 9,
   "metadata": {},
   "outputs": [
    {
     "ename": "TypeError",
     "evalue": "'NoneType' object is not subscriptable",
     "output_type": "error",
     "traceback": [
      "\u001b[1;31m---------------------------------------------------------------------------\u001b[0m",
      "\u001b[1;31mTypeError\u001b[0m                                 Traceback (most recent call last)",
      "\u001b[1;32m<ipython-input-9-72beead86f27>\u001b[0m in \u001b[0;36m<module>\u001b[1;34m\u001b[0m\n\u001b[0;32m      1\u001b[0m \u001b[1;31m# Check if main performers are in the list of subsidiaries\u001b[0m\u001b[1;33m\u001b[0m\u001b[1;33m\u001b[0m\u001b[1;33m\u001b[0m\u001b[0m\n\u001b[1;32m----> 2\u001b[1;33m \u001b[0mListComp_df\u001b[0m\u001b[1;33m[\u001b[0m\u001b[1;34m'Is a Sub'\u001b[0m\u001b[1;33m]\u001b[0m \u001b[1;33m=\u001b[0m \u001b[0mListComp_df\u001b[0m\u001b[1;33m[\u001b[0m\u001b[1;34m'BvD_id'\u001b[0m\u001b[1;33m]\u001b[0m\u001b[1;33m.\u001b[0m\u001b[0misin\u001b[0m\u001b[1;33m(\u001b[0m\u001b[0mListCompSub_df\u001b[0m\u001b[1;33m[\u001b[0m\u001b[1;34m'Sub_BvD_id'\u001b[0m\u001b[1;33m]\u001b[0m\u001b[1;33m)\u001b[0m\u001b[1;33m\u001b[0m\u001b[1;33m\u001b[0m\u001b[0m\n\u001b[0m\u001b[0;32m      3\u001b[0m \u001b[1;33m\u001b[0m\u001b[0m\n\u001b[0;32m      4\u001b[0m \u001b[1;31m# Check if main performers are identified as MNCs\u001b[0m\u001b[1;33m\u001b[0m\u001b[1;33m\u001b[0m\u001b[1;33m\u001b[0m\u001b[0m\n\u001b[0;32m      5\u001b[0m \u001b[0mListComp_df\u001b[0m\u001b[1;33m[\u001b[0m\u001b[1;34m'Is in MNC'\u001b[0m\u001b[1;33m]\u001b[0m \u001b[1;33m=\u001b[0m \u001b[0mListComp_df\u001b[0m\u001b[1;33m[\u001b[0m\u001b[1;34m'BvD_id'\u001b[0m\u001b[1;33m]\u001b[0m\u001b[1;33m.\u001b[0m\u001b[0misin\u001b[0m\u001b[1;33m(\u001b[0m\u001b[0mMNC_df\u001b[0m\u001b[1;33m[\u001b[0m\u001b[1;34m'BvD_id'\u001b[0m\u001b[1;33m]\u001b[0m\u001b[1;33m)\u001b[0m\u001b[1;33m\u001b[0m\u001b[1;33m\u001b[0m\u001b[0m\n",
      "\u001b[1;31mTypeError\u001b[0m: 'NoneType' object is not subscriptable"
     ]
    }
   ],
   "source": [
    "# Check if main performers are in the list of subsidiaries\n",
    "ListComp_df['Is a Sub'] = ListComp_df['BvD_id'].isin(ListCompSub_df['Sub_BvD_id'])\n",
    "\n",
    "# Check if main performers are identified as MNCs\n",
    "ListComp_df['Is in MNC'] = ListComp_df['BvD_id'].isin(MNC_df['BvD_id'])\n",
    "\n",
    "# Check if duplicate subsidiaries    \n",
    "ListCompSub_df['Is a First Sub Duplicate'] = ListCompSub_df.duplicated(subset = 'Sub_BvD_id', keep = 'first')\n",
    "ListCompSub_df['Is a Sub Duplicate'] = ListCompSub_df.duplicated(subset = 'Sub_BvD_id', keep = False)\n",
    "\n",
    "# Check if subs are identified as MNCs\n",
    "ListCompSub_df['Is in MNC'] = ListCompSub_df['Sub_BvD_id'].isin(MNC_df['BvD_id'])"
   ]
  },
  {
   "cell_type": "code",
   "execution_count": null,
   "metadata": {},
   "outputs": [],
   "source": [
    "report.append({'Set': 'Initial',\n",
    "               '#Performers': ListComp_df['BvD_id'].count().sum(),\n",
    "               '#Performers_beingSubs': ListComp_df['BvD_id'][ListComp_df['Is a Sub'] == True].count().sum(),\n",
    "               '#Subs': ListCompSub_df['Sub_BvD_id'].count().sum(),\n",
    "               '#Subs_Dupl': ListCompSub_df['Sub_BvD_id'][ListCompSub_df['Is a Sub Duplicate'] == True].count().sum(),\n",
    "               '#MNC': MNC_df['BvD_id'].count().sum(),\n",
    "               '#Performers_inMNC': ListComp_df['BvD_id'][ListComp_df['Is in MNC'] == True].count().sum(),\n",
    "               '#Subs_inMNC':ListCompSub_df['Sub_BvD_id'][ListCompSub_df['Is in MNC'] == True].count().sum()\n",
    "              })\n",
    "\n",
    "#df1 = ListCompSub_df[ListCompSub_df['Is a First Sub Duplicate'] == True].groupby('Subs_lvl').count()\n",
    "#df1 = df1[['BvD_id']].rename(columns={'BvD_id': 'Initial_#FirstDuplicate'})\n",
    "\n",
    "#df2 = ListCompSub_df[ListCompSub_df['Is a Sub Duplicate'] == True].groupby('Subs_lvl').count()\n",
    "#df2 = df2[['BvD_id']].rename(columns={'BvD_id': 'Initial_#AllDuplicate'})\n",
    "\n",
    "#DupSub_bylvl_df = pd.concat([df1,df2], axis = 1, sort = True)\n",
    "\n",
    "ListComp_df.to_csv(AltApp_path.joinpath(r'Orbis_Data\\Data_2020\\Output tables\\#2 - Listed companies - Main R&D performers.csv'),\n",
    "                   index = False,\n",
    "                   float_format = '%.10f'\n",
    "                  )\n",
    "\n",
    "ListCompSub_df.to_csv(AltApp_path.joinpath(r'Orbis_Data\\Data_2020\\Output tables\\#2 - Listed companies - Subsidiaries.csv'),\n",
    "                      index = False,\n",
    "                      float_format = '%.10f'\n",
    "                     )"
   ]
  },
  {
   "cell_type": "code",
   "execution_count": null,
   "metadata": {},
   "outputs": [],
   "source": [
    "# Set of main performers that are not also a subsidiary\n",
    "CleanListComp_df = ListComp_df[ListComp_df['Is a Sub'] == False]\n",
    "\n",
    "# Updated set of subsidiaries\n",
    "CleanListCompSub_df = ListCompSub_df[ListCompSub_df['BvD_id'].isin(CleanListComp_df['BvD_id'])].drop(\n",
    "    columns = ['Is a First Sub Duplicate', 'Is a Sub Duplicate']\n",
    ")\n",
    "\n",
    "# Check if duplicate subsidiaries    \n",
    "CleanListCompSub_df['Is a First Sub Duplicate'] = CleanListCompSub_df.duplicated(subset = 'Sub_BvD_id', keep = 'first')\n",
    "CleanListCompSub_df['Is a Sub Duplicate'] = CleanListCompSub_df.duplicated(subset = 'Sub_BvD_id', keep = False)"
   ]
  },
  {
   "cell_type": "code",
   "execution_count": null,
   "metadata": {},
   "outputs": [],
   "source": [
    "report.append({'Set': 'Excluding performers that are subsidiaries',\n",
    "               '#Performers': CleanListComp_df['BvD_id'].count().sum(),\n",
    "               '#Performers_beingSubs': CleanListComp_df['BvD_id'][CleanListComp_df['Is a Sub'] == True].count().sum(),\n",
    "               '#Subs': CleanListCompSub_df['Sub_BvD_id'].count().sum(),\n",
    "               '#Subs_Dupl': CleanListCompSub_df['Sub_BvD_id'][CleanListCompSub_df['Is a Sub Duplicate'] == True].count().sum(),\n",
    "               '#MNC': MNC_df['BvD_id'].count().sum(),\n",
    "               '#Performers_inMNC': CleanListComp_df['BvD_id'][CleanListComp_df['Is in MNC'] == True].count().sum(),\n",
    "               '#Subs_inMNC':CleanListCompSub_df['Sub_BvD_id'][CleanListCompSub_df['Is in MNC'] == True].count().sum()\n",
    "              })\n",
    "\n",
    "#df1 = CleanListCompSub_df[CleanListCompSub_df['Is a First Sub Duplicate'] == True].groupby('Subs_lvl').count()\n",
    "#df1 = df1[['BvD_id']].rename(columns={'BvD_id': 'Clean_#FirstDuplicate'})\n",
    "\n",
    "#df2 = CleanListCompSub_df[CleanListCompSub_df['Is a Sub Duplicate'] == True].groupby('Subs_lvl').count()\n",
    "#df2 = df2[['BvD_id']].rename(columns={'BvD_id': 'Clean_#AllDuplicate'})\n",
    "\n",
    "#CleanDupSub_bylvl_df = pd.concat([df1,df2], axis = 1, sort = True)"
   ]
  },
  {
   "cell_type": "code",
   "execution_count": null,
   "metadata": {},
   "outputs": [],
   "source": [
    "CleanListComp_df.to_csv(AltApp_path.joinpath(r'Orbis_Data\\Data_2020\\Output tables\\#2 - Listed companies - Main R&D performers - Excl Perf_beingSubs.csv'),\n",
    "                        index = False,\n",
    "                        columns = ['BvD_id', 'Company_name', 'RnD_Y_LastAv', 'Year'],\n",
    "                        float_format = '%.10f'                        \n",
    "                       )\n",
    "\n",
    "CleanListCompSub_df.to_csv(AltApp_path.joinpath(r'Orbis_Data\\Data_2020\\Output tables\\#2 - Listed companies - Subsidiaries - Excl Perf_beingSubs.csv'),\n",
    "                           index = False,\n",
    "                           columns = ['BvD_id', 'Company_name', 'Sub_BvD_id'],\n",
    "                           float_format = '%.10f'\n",
    "                          )\n",
    "\n",
    "#pd.concat([DupSub_bylvl_df, CleanDupSub_bylvl_df], axis = 1).to_csv(\n",
    "#    AltApp_path.joinpath(r'Orbis_Data\\Data_2020\\Output tables\\#2 - Duplicate Subsidiaries_by lvl - Excl Perf_beingSubs.csv')\n",
    "#)\n",
    "\n",
    "pd.DataFrame(report).to_csv(AltApp_path.joinpath(r'Orbis_Data\\Data_2020\\Output tables\\#2 - report.csv'),\n",
    "                            index = False,\n",
    "                            columns = ['Set', '#Performers', '#Performers_beingSubs', '#Subs', '#Subs_Dupl', '#MNC',\n",
    "                                       '#Performers_inMNC', '#Subs_inMNC']\n",
    "                       )"
   ]
  }
 ],
 "metadata": {
  "kernelspec": {
   "display_name": "Python 3",
   "language": "python",
   "name": "python3"
  },
  "language_info": {
   "codemirror_mode": {
    "name": "ipython",
    "version": 3
   },
   "file_extension": ".py",
   "mimetype": "text/x-python",
   "name": "python",
   "nbconvert_exporter": "python",
   "pygments_lexer": "ipython3",
   "version": "3.7.3"
  }
 },
 "nbformat": 4,
 "nbformat_minor": 2
}
