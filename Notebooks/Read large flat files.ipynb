{
 "cells": [
  {
   "cell_type": "code",
   "execution_count": 1,
   "metadata": {},
   "outputs": [],
   "source": [
    "# Import libraries\n",
    "import os\n",
    "import pandas as pd\n",
    "from pathlib import Path\n",
    "import configparser\n",
    "import json\n",
    "from tabulate import tabulate"
   ]
  },
  {
   "cell_type": "code",
   "execution_count": 12,
   "metadata": {},
   "outputs": [],
   "source": [
    "base_path = Path(r'U:\\WP 765 Energy RIC\\Database\\ORBIS FF\\Patents')\n",
    "\n",
    "file_list = ['BvDID_ISIN_Mapping.txt','IPC.txt','IPC_Labels.txt','Owners.txt','Patents.txt']"
   ]
  },
  {
   "cell_type": "code",
   "execution_count": 8,
   "metadata": {},
   "outputs": [
    {
     "name": "stdout",
     "output_type": "stream",
     "text": [
      "['PatPublnNr\\tappln_title\\tpubln_date\\n', 'AD121212(A)\\t\\t\\n', 'AD1882(A)\\t\\t\\n', 'AD1893(A)\\t\\t\\n', 'AD1894(A)\\t\\t\\n', 'AD1906(A)\\t\\t\\n', 'AD1907(A)\\t\\t\\n', 'AD1908(US)\\t\\t\\n', 'AD1912(A)\\t\\t\\n', 'AE017243(A)\\t\\t\\n', 'AE1512348(A)\\t\\t\\n', 'AE49117130747474(A)\\t\\t\\n', 'AE6533604(A)\\t\\t\\n', 'AE6533704(A)\\t\\t\\n', 'AE6533804(A)\\t\\t\\n', 'AE896493(A2)\\t\\t\\n', 'AE9782008(A)\\t\\t\\n', 'AF304823(B)\\t\\t\\n', 'AF498402(A)\\t\\t\\n', 'AL0069307(A1)\\t\\t\\n', 'AL1099529(A1)\\t\\t\\n', 'AL1412638(A1)\\t\\t\\n', 'AL1909176(A1)\\t\\t\\n', 'AL19609571(A1)\\t\\t\\n', 'AL20045102(A)\\t\\t\\n', 'AL2005015283(A1)\\t\\t\\n', 'AL2020756(B)\\t\\t\\n', 'AL2111074(A1)\\t\\t\\n', 'AL2161517(A1)\\t\\t\\n', 'AL2605607(A1)\\t\\t\\n', 'AL3001830(A1)\\t\\t\\n', 'AL60125292(T)\\t\\t\\n', 'AM1070(A2)\\t\\t\\n', 'AM1079(A2)\\t\\t\\n', 'AM1089(A2)\\t\\t\\n', 'AM1137(A2)\\t\\t\\n', 'AM1150(A2)\\t\\t\\n', 'AM12451(A)\\t\\t\\n', 'AM1308(A2)\\t\\t\\n', 'AM1372(A2)\\t\\t\\n', 'AM1402(A2)\\tHardtack preparing method\\t2004-03-17\\n', 'AM1423(A2)\\t\\t\\n', 'AM143(U)\\t\\t\\n', 'AM1456(A2)\\t\\t\\n', 'AM1458333(A)\\t\\t\\n', 'AM1512(A2)\\t\\t\\n', 'AM15202720(A)\\t\\t\\n', 'AM155(U)\\t\\t\\n', 'AM158(U)\\t\\t\\n', 'AM1591(A2)\\t\\t\\n']\n"
     ]
    }
   ],
   "source": [
    "#filename = 'U:\\WP 765 Energy RIC\\Database\\ORBIS FF\\Patents\\Patents.txt'\n",
    "#with open(filename) as f:\n",
    "    \n",
    "#    head = [next(f) for x in range(50)]\n",
    "\n",
    "#print(head)"
   ]
  },
  {
   "cell_type": "code",
   "execution_count": 33,
   "metadata": {},
   "outputs": [
    {
     "name": "stdout",
     "output_type": "stream",
     "text": [
      "\n",
      "BvDID_ISIN_Mapping.txt\n",
      "\n",
      "             BvDID          ISIN\n",
      "0        AE30027GU  AEE000401019\n",
      "1        AE30030GU  AEG000201018\n",
      "2  AR30-50023556-6  ARP3763X1016\n",
      "3  AR30-50052532-7  ARP017581124\n",
      "4  AR30-50052693-5  ARP809061780\n",
      "\n",
      "IPC.txt\n",
      "\n",
      "  PatPublnNr ipc_class_symbol\n",
      "0  AM949(A2)        A61K31/70\n",
      "1  AM949(A2)        A61K33/14\n",
      "2  AM949(A2)        A61K33/18\n",
      "3  AM949(A2)        A61P31/04\n",
      "4  AM949(A2)        A61P31/12\n",
      "\n",
      "IPC_Labels.txt\n",
      "\n",
      "   IPC_Code                                           LABEL_EN\n",
      "0         A                                  HUMAN NECESSITIES\n",
      "1       A01  AGRICULTURE; FORESTRY; ANIMAL HUSBANDRY; HUNTI...\n",
      "2      A01B  SOIL WORKING IN AGRICULTURE OR FORESTRY; PARTS...\n",
      "3  A01B1/00  Hand tools (edge trimmers for lawns A01G000306...\n",
      "4  A01B1/02                                    Spades; Shovels\n",
      "\n",
      "Owners.txt\n",
      "\n",
      "   PatPublnNr                       person_name           BvDID\n",
      "6      AP1(A)   The Wellcome Foundation Limited      GB00194814\n",
      "7      AP1(U)                  CHARDUST LIMITED        KEC91543\n",
      "10  AP1000(A)               Glaxo Group Limited      GB00305979\n",
      "11  AP1001(A)  Societe des Produits Nestle S.A.  CHCHE109815753\n",
      "12  AP1002(A)                        Pfizer Inc     US135315170\n",
      "\n",
      "Patents.txt\n",
      "\n",
      "     PatPublnNr                                        appln_title  publn_date\n",
      "39   AM1402(A2)                          Hardtack preparing method  2004-03-17\n",
      "53   AM1813(A2)  METHOD FOR PRODUCING OF BLACK GRANULAR CAVIAR ...  2006-09-15\n",
      "125      AP1(A)                      Polycyclic aromatic compounds  1985-07-03\n",
      "126      AP1(U)  A method for the carbonization of particulate ...  2002-06-06\n",
      "127     AP10(A)         Teeth for use with earth moving equipment.  1988-01-01\n"
     ]
    }
   ],
   "source": [
    "for file in file_list:\n",
    "    \n",
    "    print('\\n' + file + '\\n')\n",
    "    \n",
    "    df = pd.read_csv(base_path.joinpath(file),\n",
    "                     sep = '\\t',\n",
    "                     nrows = 1000\n",
    "                    )\n",
    "    \n",
    "    print(df.dropna().head())"
   ]
  }
 ],
 "metadata": {
  "kernelspec": {
   "display_name": "Python 3",
   "language": "python",
   "name": "python3"
  },
  "language_info": {
   "codemirror_mode": {
    "name": "ipython",
    "version": 3
   },
   "file_extension": ".py",
   "mimetype": "text/x-python",
   "name": "python",
   "nbconvert_exporter": "python",
   "pygments_lexer": "ipython3",
   "version": "3.6.10"
  }
 },
 "nbformat": 4,
 "nbformat_minor": 2
}
