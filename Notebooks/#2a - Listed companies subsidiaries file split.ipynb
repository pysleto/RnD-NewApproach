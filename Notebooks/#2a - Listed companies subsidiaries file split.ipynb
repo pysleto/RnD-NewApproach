{
 "cells": [
  {
   "cell_type": "code",
   "execution_count": 1,
   "metadata": {},
   "outputs": [],
   "source": [
    "# Import libraries\n",
    "import os\n",
    "import pandas as pd\n",
    "from pathlib import Path\n",
    "import configparser\n",
    "import json\n",
    "from tabulate import tabulate"
   ]
  },
  {
   "cell_type": "code",
   "execution_count": 2,
   "metadata": {},
   "outputs": [],
   "source": [
    "# Initiallize\n",
    "base_path = Path(r'U:\\WP 765 Energy RIC\\Private data & analysis\\Alternative Approach_Private R&D\\Orbis_Data\\Data_2020')"
   ]
  },
  {
   "cell_type": "code",
   "execution_count": 3,
   "metadata": {},
   "outputs": [],
   "source": [
    "# Import config parameters\n",
    "config = configparser.ConfigParser(\n",
    "    converters={'list': lambda x: [i.strip() for i in x.split(',')]}\n",
    ")\n",
    "     \n",
    "config.read(base_path.joinpath(r'config.ini'))\n",
    "\n",
    "CASE = 'GLOBAL_LC_2018'\n",
    "\n",
    "REGION = config.getlist('DEFAULT','ORBIS_REGION')\n",
    "MAPPING = Path(config.get('DEFAULT','MAPPING_PATH'))\n",
    "SCREENING_KEYS = config.getlist('DEFAULT','SCREENING_KEYS')\n",
    "\n",
    "CASE_ROOT = base_path.joinpath(config.get(CASE,'CASE_ROOT_PATH'))\n",
    "YEAR_LASTAV = config.getint(CASE,'YEAR_LASTAV')\n",
    "SUBS_ID_FILE_N = config.getint(CASE,'SUBS_ID_FILE_N')\n",
    "SUBS_FIN_FILE_N = config.getint(CASE,'SUBS_FIN_FILE_N')\n",
    "GROUPS_FIN_FILE_N = config.getint(CASE,'GROUPS_FIN_FILE_N')\n",
    "METHOD = config.get(CASE,'SUBS_METHOD')"
   ]
  },
  {
   "cell_type": "code",
   "execution_count": 16,
   "metadata": {},
   "outputs": [],
   "source": [
    "# Load selected listed company subsidiaries set\n",
    "ListCompSub_df = pd.read_csv(CASE_ROOT.joinpath(r'Listed companies subsidiaries - ' + METHOD + '.csv'),\n",
    "                             na_values = 'n.a.',\n",
    "                             dtype = {\n",
    "                                 col: str for col in ['BvD9', 'BvD_id', 'Sub_BvD9', 'Sub_BvD_id']\n",
    "                                     },\n",
    "                             chunksize = 5000\n",
    "                            )"
   ]
  },
  {
   "cell_type": "code",
   "execution_count": 17,
   "metadata": {},
   "outputs": [],
   "source": [
    "i = 0\n",
    "\n",
    "for chunk in ListCompSub_df:\n",
    "\n",
    "    i += 1\n",
    "    \n",
    "    chunk.to_csv(CASE_ROOT.joinpath(r'Chunks\\Listed companies subsidiaries - ' + METHOD + ' #' + str(i) + '.csv'),\n",
    "                  index = False,\n",
    "                 mode = 'w'\n",
    "                 )"
   ]
  },
  {
   "cell_type": "code",
   "execution_count": null,
   "metadata": {},
   "outputs": [],
   "source": []
  }
 ],
 "metadata": {
  "kernelspec": {
   "display_name": "Python 3",
   "language": "python",
   "name": "python3"
  },
  "language_info": {
   "codemirror_mode": {
    "name": "ipython",
    "version": 3
   },
   "file_extension": ".py",
   "mimetype": "text/x-python",
   "name": "python",
   "nbconvert_exporter": "python",
   "pygments_lexer": "ipython3",
   "version": "3.7.3"
  }
 },
 "nbformat": 4,
 "nbformat_minor": 2
}
