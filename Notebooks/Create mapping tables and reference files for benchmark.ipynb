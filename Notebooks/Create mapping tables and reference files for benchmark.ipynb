{
 "cells": [
  {
   "cell_type": "code",
   "execution_count": 1,
   "metadata": {},
   "outputs": [
    {
     "ename": "ModuleNotFoundError",
     "evalue": "No module named 'method'",
     "output_type": "error",
     "traceback": [
      "\u001b[1;31m---------------------------------------------------------------------------\u001b[0m",
      "\u001b[1;31mModuleNotFoundError\u001b[0m                       Traceback (most recent call last)",
      "\u001b[1;32m<ipython-input-1-e3e749478b4d>\u001b[0m in \u001b[0;36m<module>\u001b[1;34m\u001b[0m\n\u001b[0;32m      1\u001b[0m \u001b[1;31m# Import libraries\u001b[0m\u001b[1;33m\u001b[0m\u001b[1;33m\u001b[0m\u001b[1;33m\u001b[0m\u001b[0m\n\u001b[0;32m      2\u001b[0m \u001b[1;32mimport\u001b[0m \u001b[0mpandas\u001b[0m \u001b[1;32mas\u001b[0m \u001b[0mpd\u001b[0m\u001b[1;33m\u001b[0m\u001b[1;33m\u001b[0m\u001b[0m\n\u001b[1;32m----> 3\u001b[1;33m \u001b[1;32mimport\u001b[0m \u001b[0mmethod\u001b[0m \u001b[1;32mas\u001b[0m \u001b[0mmtd\u001b[0m\u001b[1;33m\u001b[0m\u001b[1;33m\u001b[0m\u001b[0m\n\u001b[0m\u001b[0;32m      4\u001b[0m \u001b[1;32mimport\u001b[0m \u001b[0mconfig\u001b[0m \u001b[1;32mas\u001b[0m \u001b[0mcfg\u001b[0m\u001b[1;33m\u001b[0m\u001b[1;33m\u001b[0m\u001b[0m\n\u001b[0;32m      5\u001b[0m \u001b[1;32mimport\u001b[0m \u001b[0mreport\u001b[0m \u001b[1;32mas\u001b[0m \u001b[0mrpt\u001b[0m\u001b[1;33m\u001b[0m\u001b[1;33m\u001b[0m\u001b[0m\n",
      "\u001b[1;31mModuleNotFoundError\u001b[0m: No module named 'method'"
     ]
    }
   ],
   "source": [
    "# Import libraries\n",
    "import pandas as pd\n",
    "import method as mtd\n",
    "import config as cfg\n",
    "import report as rpt\n",
    "import datetime\n",
    "import json\n",
    "from pathlib import Path"
   ]
  },
  {
   "cell_type": "code",
   "execution_count": null,
   "metadata": {},
   "outputs": [],
   "source": [
    "# Load config files\n",
    "(cases, cases_as_strings, files, use_case, place) = cfg.init()"
   ]
  },
  {
   "cell_type": "code",
   "execution_count": null,
   "metadata": {},
   "outputs": [],
   "source": [
    "# Import country mapping tales\n",
    "if not files['MAPPING']['COUNTRY_REFERENCE_PATH'].exists():\n",
    "    mtd.create_country_map(cases, files)"
   ]
  },
  {
   "cell_type": "code",
   "execution_count": null,
   "metadata": {},
   "outputs": [],
   "source": [
    "# Import mapping tables\n",
    "print('Read country_table.csv - Country mapping table ...')\n",
    "country_map = pd.read_csv(files['MAPPING']['COUNTRY_REFERENCE_PATH'])"
   ]
  },
  {
   "cell_type": "code",
   "execution_count": null,
   "metadata": {},
   "outputs": [],
   "source": [
    "# Format SOEUR_RnD reference file\n",
    "\n",
    "print('Read SOEUR RnD source file')\n",
    "\n",
    "df = pd.read_excel(files['MAPPING']['SOEUR_RND_SOURCE_PATH'],\n",
    "                   sheet_name='SOEUR_RnD',\n",
    "                   names=['group_id', 'group_name', 'group_country_2DID_iso', 'id_group_region',\n",
    "                          'group_region', 'is_group_MI', 'bvd_id', 'icb_id', 'icb_3_name', 'NACE_code',\n",
    "                          'sector_uc', 'group_uc', 'rnd_group_uc', 'group_size', 'group_rnd',\n",
    "                          'group_sales', 'group_employees', 'group_invention', 'group_energy_invention', 'year',\n",
    "                          'jrc_id', 'company_name', 'sector', 'id_world_player',\n",
    "                          'world_player', 'is_MI', 'country_order', 'country_2DID_iso', 'nuts1', 'nuts2', 'nuts3',\n",
    "                          'total_invention', 'id_tech', 'technology', 'actions', 'energy_union_priority', 'tech_uc',\n",
    "                          'invention', 'invention_granted', 'invention_high_value', 'invention_citation',\n",
    "                          'rnd_final', 'equation'\n",
    "                          ],\n",
    "                   na_values='n.a.',\n",
    "                   dtype={\n",
    "                       **{col: str for col in\n",
    "                          ['group_id', 'group_name', 'group_country_2DID_iso', 'year', 'company_name',\n",
    "                           'country_2DID_iso', 'technology', 'actions', 'energy_union_priority'\n",
    "                           ]},\n",
    "                       **{col: float for col in\n",
    "                          ['rnd_final']}\n",
    "                   }\n",
    "                   ).drop(\n",
    "    columns=['id_group_region', 'group_region', 'is_group_MI', 'bvd_id', 'icb_id', 'icb_3_name', 'NACE_code',\n",
    "             'sector_uc', 'group_uc', 'rnd_group_uc', 'group_size', 'group_rnd', 'group_sales', 'group_employees',\n",
    "             'group_invention', 'group_energy_invention', 'jrc_id', 'sector', 'id_world_player', 'world_player',\n",
    "             'is_MI', 'country_order', 'nuts1', 'nuts2', 'nuts3', 'total_invention', 'id_tech', 'tech_uc',\n",
    "             'invention', 'invention_granted', 'invention_high_value', 'invention_citation', 'equation'],\n",
    ")"
   ]
  },
  {
   "cell_type": "code",
   "execution_count": null,
   "metadata": {},
   "outputs": [],
   "source": [
    "df = df[df['energy_union_priority'] != 'z_Others']\n",
    "\n",
    "df['approach'] = files['MAPPING']['SOEUR_RND_VERSION']"
   ]
  },
  {
   "cell_type": "code",
   "execution_count": null,
   "metadata": {},
   "outputs": [],
   "source": [
    "print('Merge with country mapping tables')\n",
    "\n",
    "# Merging group country_map for allocation to world player categories\n",
    "merged = pd.merge(\n",
    "    df, country_map[['country_2DID_soeur', 'country_3DID_iso', 'world_player']],\n",
    "    left_on='country_2DID_iso', right_on='country_2DID_soeur',\n",
    "    how='left',\n",
    "    suffixes=(False, False)\n",
    ")"
   ]
  },
  {
   "cell_type": "code",
   "execution_count": null,
   "metadata": {},
   "outputs": [],
   "source": [
    "print('Save SOEUR RnD reference file')\n",
    "\n",
    "merged.to_csv(files['MAPPING']['SOEUR_RND_REFERENCE_PATH'],\n",
    "              index=False,\n",
    "              columns=['group_id', 'group_name', 'group_country_2DID_iso', 'year', 'company_name',\n",
    "                       'country_2DID_iso', 'country_2DID_soeur', 'country_3DID_iso', 'world_player', 'technology',\n",
    "                       'actions', 'energy_union_priority', 'rnd_final', 'approach'],\n",
    "              float_format='%.10f',\n",
    "              na_rep='n.a.'\n",
    "              )"
   ]
  }
 ],
 "metadata": {
  "kernelspec": {
   "display_name": "Python 3",
   "language": "python",
   "name": "python3"
  },
  "language_info": {
   "codemirror_mode": {
    "name": "ipython",
    "version": 3
   },
   "file_extension": ".py",
   "mimetype": "text/x-python",
   "name": "python",
   "nbconvert_exporter": "python",
   "pygments_lexer": "ipython3",
   "version": "3.6.10"
  }
 },
 "nbformat": 4,
 "nbformat_minor": 4
}
